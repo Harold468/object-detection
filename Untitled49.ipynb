{
  "cells": [
    {
      "cell_type": "code",
      "execution_count": null,
      "metadata": {
        "colab": {
          "base_uri": "https://localhost:8080/"
        },
        "id": "XCOYs47VRIdJ",
        "outputId": "5b360b39-2f34-4b2f-c417-137305276b45"
      },
      "outputs": [],
      "source": [
        "!pip install ultralytics"
      ]
    },
    {
      "cell_type": "code",
      "execution_count": null,
      "metadata": {
        "id": "cQ4ar5_CgAAe"
      },
      "outputs": [],
      "source": [
        "from ultralytics import YOLO"
      ]
    },
    {
      "cell_type": "code",
      "execution_count": null,
      "metadata": {
        "id": "FptNSe2pgELo"
      },
      "outputs": [],
      "source": [
        "model = YOLO('yolov8n.pt')"
      ]
    },
    {
      "cell_type": "code",
      "execution_count": null,
      "metadata": {
        "colab": {
          "base_uri": "https://localhost:8080/",
          "height": 1000
        },
        "id": "tbh7tPHQh1q7",
        "outputId": "0650dd51-17f2-4f31-ced4-6f31989b2853"
      },
      "outputs": [],
      "source": [
        "# model.predict(\n",
        "#     source='/content/Cars Moving On Road Stock Footage - Free Download.mp4',\n",
        "#     save=True,\n",
        "#     project='runs/detect',\n",
        "#     name='video_out',\n",
        "# )\n"
      ]
    },
    {
      "cell_type": "code",
      "execution_count": null,
      "metadata": {
        "colab": {
          "base_uri": "https://localhost:8080/"
        },
        "id": "dncFrMm0jMd1",
        "outputId": "a5155892-9788-44f9-ecea-3ff82cb3b267"
      },
      "outputs": [],
      "source": [
        "!pip install ultralytics deep_sort_realtime opencv-python\n"
      ]
    },
    {
      "cell_type": "code",
      "execution_count": null,
      "metadata": {
        "id": "k8k_eYY9oi3e"
      },
      "outputs": [],
      "source": [
        "import cv2\n",
        "from deep_sort_realtime.deepsort_tracker import DeepSort\n",
        "from collections import defaultdict"
      ]
    },
    {
      "cell_type": "code",
      "execution_count": null,
      "metadata": {
        "id": "lJscsRyxosPj"
      },
      "outputs": [],
      "source": [
        "# Initialize DeepSORT\n",
        "tracker = DeepSort(max_age=30)\n",
        "\n",
        "# Dictionary to store counts\n",
        "object_counter = defaultdict(set)"
      ]
    },
    {
      "cell_type": "code",
      "execution_count": null,
      "metadata": {
        "id": "4QU7Zc28pSin"
      },
      "outputs": [],
      "source": [
        "from google.colab.patches import cv2_imshow"
      ]
    },
    {
      "cell_type": "code",
      "execution_count": null,
      "metadata": {
        "colab": {
          "base_uri": "https://localhost:8080/"
        },
        "id": "UK2viY_3o42x",
        "outputId": "d7d15e69-9625-49a2-c81a-ce68a477c8eb"
      },
      "outputs": [],
      "source": [
        "object_counter = defaultdict(set)\n",
        "\n",
        "cap = cv2.VideoCapture(\"Cars Moving On Road Stock Footage - Free Download.mp4\")\n",
        "\n",
        "# Save video output\n",
        "fourcc = cv2.VideoWriter_fourcc(*'mp4v')\n",
        "fps = int(cap.get(cv2.CAP_PROP_FPS)) or 30\n",
        "frame_width = int(cap.get(cv2.CAP_PROP_FRAME_WIDTH))\n",
        "frame_height = int(cap.get(cv2.CAP_PROP_FRAME_HEIGHT))\n",
        "out = cv2.VideoWriter(\"output.mp4\", fourcc, fps, (frame_width, frame_height))\n",
        "\n",
        "while cap.isOpened():\n",
        "    ret, frame = cap.read()\n",
        "    if not ret:\n",
        "        break\n",
        "\n",
        "    results = model.predict(source=frame, classes=None, conf=0.3, stream=True)\n",
        "\n",
        "    for r in results:\n",
        "        detections = []\n",
        "        for box in r.boxes:\n",
        "            x1, y1, x2, y2 = box.xyxy[0].cpu().numpy()\n",
        "            conf = box.conf[0].cpu().item()\n",
        "            cls = int(box.cls[0].cpu().item())\n",
        "            detections.append(([x1, y1, x2 - x1, y2 - y1], conf, cls))\n",
        "\n",
        "        tracks = tracker.update_tracks(detections, frame=frame)\n",
        "\n",
        "        for track in tracks:\n",
        "            if not track.is_confirmed():\n",
        "                continue\n",
        "\n",
        "            track_id = track.track_id\n",
        "            ltrb = track.to_ltrb()\n",
        "            cls = track.det_class\n",
        "\n",
        "            object_counter[cls].add(track_id)\n",
        "\n",
        "            x1, y1, x2, y2 = map(int, ltrb)\n",
        "            label = f\"{model.names[cls]} #{track_id}\"\n",
        "            cv2.rectangle(frame, (x1, y1), (x2, y2), (0, 255, 0), 2)\n",
        "            cv2.putText(frame, label, (x1, y1 - 10), cv2.FONT_HERSHEY_SIMPLEX, 0.6, (255, 255, 255), 2)\n",
        "\n",
        "    y = 30\n",
        "    for cls_id, track_ids in object_counter.items():\n",
        "        count = len(track_ids)\n",
        "        label = f\"{model.names[cls_id]}: {count}\"\n",
        "        cv2.putText(frame, label, (10, y), cv2.FONT_HERSHEY_SIMPLEX, 0.7, (0, 255, 255), 2)\n",
        "        y += 30\n",
        "\n",
        "    out.write(frame)\n",
        "\n",
        "out.release()\n",
        "cap.release()\n",
        "cv2.destroyAllWindows()\n"
      ]
    },
    {
      "cell_type": "code",
      "execution_count": null,
      "metadata": {
        "id": "szsaqDLjpN4Y"
      },
      "outputs": [],
      "source": []
    }
  ],
  "metadata": {
    "accelerator": "GPU",
    "colab": {
      "gpuType": "T4",
      "provenance": []
    },
    "kernelspec": {
      "display_name": "Python 3",
      "name": "python3"
    },
    "language_info": {
      "name": "python"
    }
  },
  "nbformat": 4,
  "nbformat_minor": 0
}
